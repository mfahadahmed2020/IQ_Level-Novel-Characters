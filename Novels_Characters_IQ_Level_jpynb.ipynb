{
  "nbformat": 4,
  "nbformat_minor": 0,
  "metadata": {
    "colab": {
      "provenance": [],
      "authorship_tag": "ABX9TyOBwDyS48CmnwYSRE94QxwZ",
      "include_colab_link": true
    },
    "kernelspec": {
      "name": "python3",
      "display_name": "Python 3"
    },
    "language_info": {
      "name": "python"
    }
  },
  "cells": [
    {
      "cell_type": "markdown",
      "metadata": {
        "id": "view-in-github",
        "colab_type": "text"
      },
      "source": [
        "<a href=\"https://colab.research.google.com/github/mfahadahmed2020/IQ_Level-Novel-Characters/blob/main/Novels_Characters_IQ_Level_jpynb.ipynb\" target=\"_parent\"><img src=\"https://colab.research.google.com/assets/colab-badge.svg\" alt=\"Open In Colab\"/></a>"
      ]
    },
    {
      "cell_type": "markdown",
      "source": [
        "novels_writers.py"
      ],
      "metadata": {
        "id": "u10-PekULEVx"
      }
    },
    {
      "cell_type": "code",
      "source": [
        "novels_writers = {\n",
        "    \"Jasosi Dunya\":[\"Sir.Ibne-Safi?\"],\n",
        "    \"Faridi Series\":[\"Second Writer Sir.Mazhar-Kaleem-M.A\"],\n",
        "    \"Imran Series\":[\"Sir.Ibne-Safi\",\"&\",\"Second Writer Sir.Mazhar-Kaleem-M.A\"],\n",
        "    \"Parmod Series\":[\"Sir.Mazhar-Kaleem-M.A\"],\n",
        "    \"Parmod Series\":[\"H.Iqbal\"],\n",
        "    \"Aabe Hayat\":[\"Umera Ahmed\"],\n",
        "    \"Peer_e_Kamil\":[\"Umera Ahmed\"],\n",
        "    }"
      ],
      "metadata": {
        "id": "BPYAB_KrLV4A"
      },
      "execution_count": null,
      "outputs": []
    },
    {
      "cell_type": "markdown",
      "source": [
        "novels.py"
      ],
      "metadata": {
        "id": "85aujZ-7Lz9A"
      }
    },
    {
      "cell_type": "code",
      "source": [
        "novels = {\n",
        "    \"Jasosi Dunya\":\"Colonel Faridi\",\n",
        "    \"Faridi Series\":\"Colonel Faridi\",\n",
        "    \"Imran Series\":\"Ali Imran-M.S.C-D.S.C-(OXEN)-Oxford\",\n",
        "    \"Parmood Series\":\"Major Parmood\",\n",
        "    \"Peer_e_Kamil\":\"Salaar Sikander & Imama Hashim\",\n",
        "    \"Aabe Hayat\":\"Salaar Sikander & Imama Hashim\",\n",
        "}"
      ],
      "metadata": {
        "id": "5VlkO0ElL0eS"
      },
      "execution_count": null,
      "outputs": []
    },
    {
      "cell_type": "markdown",
      "source": [
        "iq_level.py"
      ],
      "metadata": {
        "id": "5qckvj0aMDPo"
      }
    },
    {
      "cell_type": "code",
      "source": [
        "iq_level = {\n",
        "    \"Salaar Sikander & Imama Hashim\": [\"150+\"],\n",
        "    \"Major Parmood\": [\"150+\"],\n",
        "    \"Colenal Faridi\": [\"160+\"],\n",
        "    \"Ali Imran-M.S.C-D.S.C-(OXEN)-Oxford\": [\"170+\"],\n",
        "}"
      ],
      "metadata": {
        "id": "FV_V-6zzMEaS"
      },
      "execution_count": null,
      "outputs": []
    },
    {
      "cell_type": "markdown",
      "source": [
        "main.py"
      ],
      "metadata": {
        "id": "zhQErvjdMSNK"
      }
    },
    {
      "cell_type": "code",
      "source": [
        "import novels_writers\n",
        "import novels\n",
        "import iq_level\n",
        "\n",
        "character = [\"Colonel Faridi\", \"Ali Imran-M.S.C-D.S.C-(OXEN)-Oxford\", \"Major Parmood\", \"Salaar Sikander & Imama Hashim\"]\n",
        "\n",
        "for character in character:\n",
        "    print(f\"\\nCharacter: {character}\")\n",
        "    print(f\"Writer(s): {', '.join(novels_writers.novels_writers[character])}\")\n",
        "    print(f\"Novel:{novels.novels[character]}\")\n",
        "    print(f\"IQ Level: {iq_level.iq_level[character]}\")"
      ],
      "metadata": {
        "id": "VxIGrgHQMfqH"
      },
      "execution_count": null,
      "outputs": []
    },
    {
      "cell_type": "code",
      "source": [
        "novels_writers = {\n",
        "    \"Jasosi Dunya\":[\"Sir.Ibne-Safi?\"],\n",
        "    \"Faridi Series\":[\"Second Writer Sir.Mazhar-Kaleem-M.A\"],\n",
        "    \"Imran Series\":[\"Sir.Ibne-Safi\",\"&\",\"Second Writer Sir.Mazhar-Kaleem-M.A\"],\n",
        "    \"Parmod Series\":[\"Sir.Mazhar-Kaleem-M.A\"],\n",
        "    \"Parmod Series\":[\"H.Iqbal\"],\n",
        "    \"Aabe Hayat\":[\"Umera Ahmed\"],\n",
        "    \"Peer_e_Kamil\":[\"Umera Ahmed\"],\n",
        "    }\n",
        "\n",
        "novels = {\n",
        "    \"Jasosi Dunya\":\"Colonel Faridi\",\n",
        "    \"Faridi Series\":\"Colonel Faridi\",\n",
        "    \"Imran Series\":\"Ali Imran-M.S.C-D.S.C-(OXEN)-Oxford\",\n",
        "    \"Parmood Series\":\"Major Parmood\",\n",
        "    \"Peer_e_Kamil\":\"Salaar Sikander & Imama Hashim\",\n",
        "    \"Aab-E-Hayat\":\"Salaar Sikander & Imama Hashim\",\n",
        "}\n",
        "\n",
        "iq_level = {\n",
        "    \"Salaar Sikander & Imama Hashim\": [\"150+\"],\n",
        "    \"Major Parmood\": [\"150+\"],\n",
        "    \"Colenal Faridi\": [\"160+\"],\n",
        "    \"Ali Imran-M.S.C-D.S.C-(OXEN)-Oxford\": [\"170+\"],\n",
        "}\n",
        "\n",
        "# import novels_writers\n",
        "# import novels\n",
        "# import iq_level\n",
        "\n",
        "character = [\"Colonel Faridi\", \"Ali Imran-M.S.C-D.S.C-(OXEN)-Oxford\", \"Major Parmood\", \"Salaar Sikander & Imama Hashim\"]\n",
        "\n",
        "for character in character:\n",
        "    print(f\"\\nCharacter: {character}\")\n",
        "    # Access the 'novels_writers' dictionary directly using its name\n",
        "    print(f\"Writer(s): {', '.join(novels_writers.get(character, ['Sir.Ibne-Safi , Second Writer Sir.Mazhar-Kaleem-M.A , H.Iqbal & Umera Ahmed']))}\")\n",
        "    print(f\"Novel:{novels.get(character, 'Jasosi Dunya , Faridi Series , Imran Series , Parmood Series , Peer_e_Kamil & Aab-E-Hayat')}\") # Use get to handle missing keys\n",
        "    print(f\"IQ Level: {iq_level.get(character, ['160+'])}\") # Use get to handle missing keys"
      ],
      "metadata": {
        "colab": {
          "base_uri": "https://localhost:8080/"
        },
        "id": "y_npVvnfMx0H",
        "outputId": "2146d9fb-cff5-4fde-f51c-966915a55135"
      },
      "execution_count": null,
      "outputs": [
        {
          "output_type": "stream",
          "name": "stdout",
          "text": [
            "\n",
            "Character: Colonel Faridi\n",
            "Writer(s): Sir.Ibne-Safi , Second Writer Sir.Mazhar-Kaleem-M.A , H.Iqbal & Umera Ahmed\n",
            "Novel:Jasosi Dunya , Faridi Series , Imran Series , Parmood Series , Peer_e_Kamil & Aab-E-Hayat\n",
            "IQ Level: ['160+']\n",
            "\n",
            "Character: Ali Imran-M.S.C-D.S.C-(OXEN)-Oxford\n",
            "Writer(s): Sir.Ibne-Safi , Second Writer Sir.Mazhar-Kaleem-M.A , H.Iqbal & Umera Ahmed\n",
            "Novel:Jasosi Dunya , Faridi Series , Imran Series , Parmood Series , Peer_e_Kamil & Aab-E-Hayat\n",
            "IQ Level: ['170+']\n",
            "\n",
            "Character: Major Parmood\n",
            "Writer(s): Sir.Ibne-Safi , Second Writer Sir.Mazhar-Kaleem-M.A , H.Iqbal & Umera Ahmed\n",
            "Novel:Jasosi Dunya , Faridi Series , Imran Series , Parmood Series , Peer_e_Kamil & Aab-E-Hayat\n",
            "IQ Level: ['150+']\n",
            "\n",
            "Character: Salaar Sikander & Imama Hashim\n",
            "Writer(s): Sir.Ibne-Safi , Second Writer Sir.Mazhar-Kaleem-M.A , H.Iqbal & Umera Ahmed\n",
            "Novel:Jasosi Dunya , Faridi Series , Imran Series , Parmood Series , Peer_e_Kamil & Aab-E-Hayat\n",
            "IQ Level: ['150+']\n"
          ]
        }
      ]
    }
  ]
}