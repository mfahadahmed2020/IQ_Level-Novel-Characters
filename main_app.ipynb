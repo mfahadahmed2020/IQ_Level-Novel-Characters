{
  "cells": [
    {
      "cell_type": "markdown",
      "metadata": {
        "id": "view-in-github",
        "colab_type": "text"
      },
      "source": [
        "<a href=\"https://colab.research.google.com/github/mfahadahmed2020/IQ_Level-Novel-Characters/blob/main/main_app.ipynb\" target=\"_parent\"><img src=\"https://colab.research.google.com/assets/colab-badge.svg\" alt=\"Open In Colab\"/></a>"
      ]
    },
    {
      "cell_type": "code",
      "execution_count": null,
      "metadata": {
        "colab": {
          "base_uri": "https://localhost:8080/"
        },
        "id": "TYl7tWoG_j8X",
        "outputId": "973e5366-7cfc-480e-8ea5-5e8bf76f1348"
      },
      "outputs": [
        {
          "output_type": "stream",
          "name": "stdout",
          "text": [
            "\n",
            "Character: Colonel Faridi\n",
            "Writer(s): Sir.Ibne-Safi, &, Second Writer Sir.Mazhar-Kaleem-M.A\n",
            "Novel: Colonel Faridi\n",
            "IQ Level: 160+\n",
            "\n",
            "Character: Ali Imran\n",
            "Writer(s): Sir.Ibne-Safi, &, Second Writer Sir.Mazhar-Kaleem-M.A\n",
            "Novel: Ali Imran-M.S.C-D.S.C-(OXEN)-Oxford\n",
            "IQ Level: 170+\n",
            "\n",
            "Character: Major Parmood\n",
            "Writer(s): Sir.Mazhar-Kaleem-M.A\n",
            "Novel: Major Parmood\n",
            "IQ Level: 150+\n",
            "\n",
            "Character: Salaar Sikander\n",
            "Writer(s): Umera Ahmed\n",
            "Novel: Salaar Sikander & Imama Hashim\n",
            "IQ Level: 150+\n"
          ]
        }
      ],
      "source": [
        "# import novels_writers\n",
        "# import novels\n",
        "# import iq_level\n",
        "\n",
        "\n",
        "    # IQ Level Dictionary with all characters\n",
        "iq_level = {\n",
        "    \"Salaar Sikander & Imama Hashim\": \"150+\",\n",
        "    \"Major Parmood\": \"150+\",\n",
        "    \"Colonel Faridi\": \"160+\",\n",
        "    \"Ali Imran-M.S.C-D.S.C-(OXEN)-Oxford\": \"170+\",\n",
        "    # Add IQ level for Ali Imran and Salaar Sikander\n",
        "    \"Ali Imran\": \"170+\",  # Add the IQ Level for Ali Imran here\n",
        "    \"Salaar Sikander\": \"150+\"  # Add the IQ Level for Salaar Sikander here\n",
        "}\n",
        "\n",
        "# Novels Dictionary\n",
        "novels = {\n",
        "    \"Jasosi Dunya & Faridi Series\": \"Colonel Faridi\",\n",
        "    \"Imran Series\": \"Ali Imran-M.S.C-D.S.C-(OXEN)-Oxford\",\n",
        "    \"Parmod Series\": \"Major Parmood\",\n",
        "    \"Peer_e_Kamil\": \"Salaar Sikander & Imama Hashim\"\n",
        "}\n",
        "\n",
        "# Writers Dictionary\n",
        "novels_writers = {\n",
        "    \"Jasosi Dunya & Faridi Series\": [\"Sir.Ibne-Safi\", \"&\", \"Second Writer Sir.Mazhar-Kaleem-M.A\"],\n",
        "    \"Imran Series\": [\"Sir.Ibne-Safi\", \"&\", \"Second Writer Sir.Mazhar-Kaleem-M.A\"],\n",
        "    \"Parmod Series\": [\"Sir.Mazhar-Kaleem-M.A\"],\n",
        "    \"Peer_e_Kamil\": [\"Umera Ahmed\"],\n",
        "}\n",
        "\n",
        "# Functions to fetch the data\n",
        "def get_writer(novel_key):\n",
        "    # This function returns the writers of the novel by the key\n",
        "    return novels_writers.get(novel_key, [\"Unknown Writer\"])\n",
        "\n",
        "def get_novel(novel_key):\n",
        "    # This function returns the name of the novel\n",
        "    return novels.get(novel_key, \"Unknown Novel\")\n",
        "\n",
        "def get_iq_level(character):\n",
        "    # This function returns the IQ level for the character\n",
        "    return iq_level.get(character, \"N/A\")\n",
        "\n",
        "# Main Code to Display Information\n",
        "characters = {\n",
        "    \"Colonel Faridi\": \"Jasosi Dunya & Faridi Series\",\n",
        "    \"Ali Imran\": \"Imran Series\",\n",
        "    \"Major Parmood\": \"Parmod Series\",\n",
        "    \"Salaar Sikander\": \"Peer_e_Kamil\"\n",
        "}\n",
        "\n",
        "# Loop to display all characters with their information\n",
        "for character, novel_key in characters.items():\n",
        "    print(f\"\\nCharacter: {character}\")\n",
        "    print(f\"Writer(s): {', '.join(get_writer(novel_key))}\")  # get writers of the novel\n",
        "    print(f\"Novel: {get_novel(novel_key)}\")  # get novel name\n",
        "    print(f\"IQ Level: {get_iq_level(character)}\")  # get IQ level of the character"
      ]
    }
  ],
  "metadata": {
    "colab": {
      "provenance": [],
      "authorship_tag": "ABX9TyNXZBrwDlro8+dIfmVbbVzv",
      "include_colab_link": true
    },
    "kernelspec": {
      "display_name": "Python 3",
      "name": "python3"
    },
    "language_info": {
      "name": "python"
    }
  },
  "nbformat": 4,
  "nbformat_minor": 0
}